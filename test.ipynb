{
 "cells": [
  {
   "cell_type": "code",
   "execution_count": 2,
   "metadata": {
    "collapsed": true,
    "ExecuteTime": {
     "end_time": "2024-10-20T09:57:59.074502400Z",
     "start_time": "2024-10-20T09:57:59.063974100Z"
    }
   },
   "outputs": [],
   "source": [
    "import cv2"
   ]
  },
  {
   "cell_type": "code",
   "execution_count": 3,
   "outputs": [],
   "source": [
    "\n",
    "# 读取图片，确保图片路径是正确的\n",
    "image_path = 'D:\\\\zzf.png'  # 替换为你的图片路径\n",
    "image = cv2.imread(image_path)\n",
    "\n",
    "# 检查图片是否成功加载\n",
    "if image is None:\n",
    "    print(f\"Error: Unable to load image at {image_path}\")\n",
    "else:\n",
    "    # 展示图片\n",
    "    cv2.imshow('Loaded Image', image)\n",
    "\n",
    "    # 等待用户按键操作，参数0表示无限等待\n",
    "    # 如果你想在展示图片后立即继续执行代码，可以将0替换为一个正整数（毫秒）\n",
    "    cv2.waitKey(0)\n",
    "\n",
    "    # 关闭所有OpenCV窗口\n",
    "    cv2.destroyAllWindows()"
   ],
   "metadata": {
    "collapsed": false,
    "ExecuteTime": {
     "end_time": "2024-10-20T09:58:06.640661300Z",
     "start_time": "2024-10-20T09:57:59.076502800Z"
    }
   }
  }
 ],
 "metadata": {
  "kernelspec": {
   "display_name": "Python 3",
   "language": "python",
   "name": "python3"
  },
  "language_info": {
   "codemirror_mode": {
    "name": "ipython",
    "version": 2
   },
   "file_extension": ".py",
   "mimetype": "text/x-python",
   "name": "python",
   "nbconvert_exporter": "python",
   "pygments_lexer": "ipython2",
   "version": "2.7.6"
  }
 },
 "nbformat": 4,
 "nbformat_minor": 0
}
