{
 "cells": [
  {
   "cell_type": "code",
   "execution_count": 5,
   "metadata": {
    "collapsed": true,
    "ExecuteTime": {
     "end_time": "2024-10-24T07:40:24.188641700Z",
     "start_time": "2024-10-24T07:40:24.171627600Z"
    }
   },
   "outputs": [],
   "source": [
    "import cv2\n",
    "import numpy as np"
   ]
  },
  {
   "cell_type": "code",
   "execution_count": 6,
   "outputs": [],
   "source": [
    "video_path = 'D:\\\\road_video.mp4'\n",
    "cap = cv2.VideoCapture(video_path)\n",
    "\n",
    "# 检查视频是否成功打开\n",
    "if not cap.isOpened():\n",
    "    print(\"Error: Could not open video.\")\n",
    "    exit()\n",
    "\n",
    "# 创建背景消除器\n",
    "# history:模型将考虑过去500帧的信息来构建背景\n",
    "# varThreshold:用于控制背景模型中每个高斯分布的方差阈值 越小越容易被认为是前景\n",
    "# detectShadows：会尝试检测并标记前景对象中的阴影部分\n",
    "fgbg = cv2.createBackgroundSubtractorMOG2(history=10000, varThreshold=64, detectShadows=True)"
   ],
   "metadata": {
    "collapsed": false,
    "ExecuteTime": {
     "end_time": "2024-10-24T07:40:24.362606400Z",
     "start_time": "2024-10-24T07:40:24.192650600Z"
    }
   }
  },
  {
   "cell_type": "code",
   "execution_count": 7,
   "outputs": [],
   "source": [
    "while True:\n",
    "    # 读取视频帧\n",
    "    ret, frame = cap.read()\n",
    "\n",
    "    # 如果读取帧失败（例如视频结束），则退出循环\n",
    "    if not ret:\n",
    "        break\n",
    "\n",
    "    # 应用背景消除器，返回一个与输入图像大小相同的二值图像（前景掩码）\n",
    "    fgmask = fgbg.apply(frame)\n",
    "    fgmask = cv2.morphologyEx(fgmask, cv2.MORPH_OPEN, np.ones((3,3), np.uint8))\n",
    "    fgmask = cv2.morphologyEx(fgmask, cv2.MORPH_CLOSE, np.ones((3,3), np.uint8))\n",
    "\n",
    "\n",
    "\n",
    "    # cv2.imshow('Moving Object Detection', fgmask)\n",
    "    # if cv2.waitKey(30) & 0xFF == ord('q'):\n",
    "    #     break\n",
    "\n",
    "    # 查找前景掩码中的轮廓\n",
    "    # cv2.RETR_EXTERNAL：轮廓检索模式，表示只检索最外层的轮廓。如果您想检索所有轮廓（包括嵌套的），可以使用cv.RETR_TREE或cv2RETR_LIST\n",
    "    # cv2.CHAIN_APPROX_SIMPLE：Retrieval  轮廓逼近方法，它会压缩水平、垂直和对角线段，只保留它们的端\n",
    "    contours, _ = cv2.findContours(fgmask, cv2.RETR_EXTERNAL, cv2.CHAIN_APPROX_SIMPLE)\n",
    "\n",
    "    # 遍历轮廓并在原始帧上绘制方框\n",
    "    for contour in contours:\n",
    "        # 忽略太小的轮廓（可能是噪声）\n",
    "        if cv2.contourArea(contour) < 512:\n",
    "            continue\n",
    "\n",
    "        # 计算轮廓的边界框\n",
    "        x, y, w, h = cv2.boundingRect(contour)\n",
    "\n",
    "        # 在原始帧上绘制方框\n",
    "        cv2.rectangle(frame, (x, y), (x + w, y + h), (0, 255, 0), 2)\n",
    "\n",
    "    # # 显示处理后的帧\n",
    "    cv2.imshow('Moving Object Detection', frame)\n",
    "    #\n",
    "    # # 按'q'键退出循环\n",
    "    if cv2.waitKey(30) & 0xFF == ord('q'):\n",
    "        break"
   ],
   "metadata": {
    "collapsed": false,
    "ExecuteTime": {
     "end_time": "2024-10-24T07:42:19.867049900Z",
     "start_time": "2024-10-24T07:40:24.369111800Z"
    }
   }
  },
  {
   "cell_type": "code",
   "execution_count": 8,
   "outputs": [],
   "source": [
    "# 释放视频捕获对象并关闭所有窗口\n",
    "cap.release()\n",
    "cv2.destroyAllWindows()"
   ],
   "metadata": {
    "collapsed": false,
    "ExecuteTime": {
     "end_time": "2024-10-24T07:42:19.924062400Z",
     "start_time": "2024-10-24T07:42:19.868071800Z"
    }
   }
  }
 ],
 "metadata": {
  "kernelspec": {
   "display_name": "Python 3",
   "language": "python",
   "name": "python3"
  },
  "language_info": {
   "codemirror_mode": {
    "name": "ipython",
    "version": 2
   },
   "file_extension": ".py",
   "mimetype": "text/x-python",
   "name": "python",
   "nbconvert_exporter": "python",
   "pygments_lexer": "ipython2",
   "version": "2.7.6"
  }
 },
 "nbformat": 4,
 "nbformat_minor": 0
}
